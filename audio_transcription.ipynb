{
 "cells": [
  {
   "cell_type": "code",
   "execution_count": 2,
   "id": "f24bab57",
   "metadata": {},
   "outputs": [
    {
     "name": "stderr",
     "output_type": "stream",
     "text": [
      "/Users/miguel/Documents/whispers/audio-transcription/.venv_audio/lib/python3.9/site-packages/tqdm/auto.py:21: TqdmWarning: IProgress not found. Please update jupyter and ipywidgets. See https://ipywidgets.readthedocs.io/en/stable/user_install.html\n",
      "  from .autonotebook import tqdm as notebook_tqdm\n",
      "Device set to use cpu\n",
      "/Users/miguel/Documents/whispers/audio-transcription/.venv_audio/lib/python3.9/site-packages/pyannote/audio/models/blocks/pooling.py:104: UserWarning: std(): degrees of freedom is <= 0. Correction should be strictly less than the reduction factor (input numel divided by output numel). (Triggered internally at /Users/runner/work/pytorch/pytorch/pytorch/aten/src/ATen/native/ReduceOps.cpp:1760.)\n",
      "  std = sequences.std(dim=-1, correction=1)\n",
      "/Users/miguel/Documents/whispers/audio-transcription/.venv_audio/lib/python3.9/site-packages/torchaudio/_backend/soundfile_backend.py:71: UserWarning: The MPEG_LAYER_III subtype is unknown to TorchAudio. As a result, the bits_per_sample attribute will be set to 0. If you are seeing this warning, please report by opening an issue on github (after checking for existing/closed ones). You may otherwise ignore this warning.\n",
      "  warnings.warn(\n",
      "/Users/miguel/Documents/whispers/audio-transcription/.venv_audio/lib/python3.9/site-packages/torchaudio/_backend/soundfile_backend.py:71: UserWarning: The MPEG_LAYER_III subtype is unknown to TorchAudio. As a result, the bits_per_sample attribute will be set to 0. If you are seeing this warning, please report by opening an issue on github (after checking for existing/closed ones). You may otherwise ignore this warning.\n",
      "  warnings.warn(\n",
      "/Users/miguel/Documents/whispers/audio-transcription/.venv_audio/lib/python3.9/site-packages/torchaudio/_backend/soundfile_backend.py:71: UserWarning: The MPEG_LAYER_III subtype is unknown to TorchAudio. As a result, the bits_per_sample attribute will be set to 0. If you are seeing this warning, please report by opening an issue on github (after checking for existing/closed ones). You may otherwise ignore this warning.\n",
      "  warnings.warn(\n",
      "/Users/miguel/Documents/whispers/audio-transcription/.venv_audio/lib/python3.9/site-packages/torchaudio/_backend/soundfile_backend.py:71: UserWarning: The MPEG_LAYER_III subtype is unknown to TorchAudio. As a result, the bits_per_sample attribute will be set to 0. If you are seeing this warning, please report by opening an issue on github (after checking for existing/closed ones). You may otherwise ignore this warning.\n",
      "  warnings.warn(\n",
      "/Users/miguel/Documents/whispers/audio-transcription/.venv_audio/lib/python3.9/site-packages/torchaudio/_backend/soundfile_backend.py:71: UserWarning: The MPEG_LAYER_III subtype is unknown to TorchAudio. As a result, the bits_per_sample attribute will be set to 0. If you are seeing this warning, please report by opening an issue on github (after checking for existing/closed ones). You may otherwise ignore this warning.\n",
      "  warnings.warn(\n",
      "/Users/miguel/Documents/whispers/audio-transcription/.venv_audio/lib/python3.9/site-packages/torchaudio/_backend/soundfile_backend.py:71: UserWarning: The MPEG_LAYER_III subtype is unknown to TorchAudio. As a result, the bits_per_sample attribute will be set to 0. If you are seeing this warning, please report by opening an issue on github (after checking for existing/closed ones). You may otherwise ignore this warning.\n",
      "  warnings.warn(\n",
      "/Users/miguel/Documents/whispers/audio-transcription/.venv_audio/lib/python3.9/site-packages/torchaudio/_backend/soundfile_backend.py:71: UserWarning: The MPEG_LAYER_III subtype is unknown to TorchAudio. As a result, the bits_per_sample attribute will be set to 0. If you are seeing this warning, please report by opening an issue on github (after checking for existing/closed ones). You may otherwise ignore this warning.\n",
      "  warnings.warn(\n",
      "/Users/miguel/Documents/whispers/audio-transcription/.venv_audio/lib/python3.9/site-packages/torchaudio/_backend/soundfile_backend.py:71: UserWarning: The MPEG_LAYER_III subtype is unknown to TorchAudio. As a result, the bits_per_sample attribute will be set to 0. If you are seeing this warning, please report by opening an issue on github (after checking for existing/closed ones). You may otherwise ignore this warning.\n",
      "  warnings.warn(\n",
      "/Users/miguel/Documents/whispers/audio-transcription/.venv_audio/lib/python3.9/site-packages/torchaudio/_backend/soundfile_backend.py:71: UserWarning: The MPEG_LAYER_III subtype is unknown to TorchAudio. As a result, the bits_per_sample attribute will be set to 0. If you are seeing this warning, please report by opening an issue on github (after checking for existing/closed ones). You may otherwise ignore this warning.\n",
      "  warnings.warn(\n",
      "/Users/miguel/Documents/whispers/audio-transcription/.venv_audio/lib/python3.9/site-packages/torchaudio/_backend/soundfile_backend.py:71: UserWarning: The MPEG_LAYER_III subtype is unknown to TorchAudio. As a result, the bits_per_sample attribute will be set to 0. If you are seeing this warning, please report by opening an issue on github (after checking for existing/closed ones). You may otherwise ignore this warning.\n",
      "  warnings.warn(\n",
      "/Users/miguel/Documents/whispers/audio-transcription/.venv_audio/lib/python3.9/site-packages/torchaudio/_backend/soundfile_backend.py:71: UserWarning: The MPEG_LAYER_III subtype is unknown to TorchAudio. As a result, the bits_per_sample attribute will be set to 0. If you are seeing this warning, please report by opening an issue on github (after checking for existing/closed ones). You may otherwise ignore this warning.\n",
      "  warnings.warn(\n"
     ]
    }
   ],
   "source": [
    "# Use a pipeline as a high-level helper\n",
    "from transformers import pipeline\n",
    "from pyannote.audio import Pipeline\n",
    "from dotenv import load_dotenv\n",
    "import os\n",
    "\n",
    "load_dotenv()\n",
    "\n",
    "pipe_whisper = pipeline(\n",
    "    task=\"automatic-speech-recognition\",\n",
    "    model=\"openai/whisper-large-v3-turbo\",\n",
    "    device=0\n",
    ")\n",
    "\n",
    "# instantiate the pipeline\n",
    "pipe_diarization = Pipeline.from_pretrained(\n",
    "  \"pyannote/speaker-diarization-3.1\",\n",
    "  use_auth_token=os.getenv(\"HF_TOKEN\"))\n",
    "\n",
    "# run the pipeline on an audio file\n",
    "diarization = pipe_diarization(\"batalla01.mp3\")"
   ]
  },
  {
   "cell_type": "code",
   "execution_count": 3,
   "id": "ec8a52d7",
   "metadata": {},
   "outputs": [
    {
     "data": {
      "image/png": "[encoded data removed]",
      "text/plain": [
       "<pyannote.core.annotation.Annotation at 0x15dac4dc0>"
      ]
     },
     "execution_count": 3,
     "metadata": {},
     "output_type": "execute_result"
    }
   ],
   "source": [
    "diarization"
   ]
  },
  {
   "cell_type": "code",
   "execution_count": 4,
   "id": "c790ef85",
   "metadata": {},
   "outputs": [],
   "source": [
    "# dump the diarization output to disk using RTTM format\n",
    "with open(\"audio.rttm\", \"w\") as rttm:\n",
    "    diarization.write_rttm(rttm)\n",
    "\n",
    "\n"
   ]
  },
  {
   "cell_type": "code",
   "execution_count": 9,
   "id": "ab5a3f98",
   "metadata": {},
   "outputs": [
    {
     "name": "stderr",
     "output_type": "stream",
     "text": [
      "/Users/miguel/Documents/whispers/audio-transcription/.venv/lib/python3.10/site-packages/transformers/models/whisper/generation_whisper.py:573: FutureWarning: The input name `inputs` is deprecated. Please make sure to use `input_features` instead.\n",
      "  warnings.warn(\n",
      "Whisper did not predict an ending timestamp, which can happen if audio is cut off in the middle of a word. Also make sure WhisperTimeStampLogitsProcessor was used during generation.\n"
     ]
    }
   ],
   "source": [
    "transcription_batalla=pipe(\"batalla01.mp3\", return_timestamps=True)"
   ]
  },
  {
   "cell_type": "code",
   "execution_count": 10,
   "id": "e259f7c1",
   "metadata": {},
   "outputs": [
    {
     "data": {
      "text/plain": [
       "{'text': \" Encyclopedia versus piezas Tengo aquí en mi mente, el ojo, el dejo potente, siempre me gusta la guerra. Este te entierra y te encierra, piezas, rompo tu cabeza, tú siempre serás mi perra. Tengo rimas que se salen las vocales pa' que salen, están consolidadas. El que sobresale cuando está en su sala, conmigo siempre emprendió la retirada. Por eso tengo rimas que te hacen daño, no te engaño, aquí está, no hay fallo. Me gusta esta referencia, es extraño Yo hice que te retiraran por lo menos 20 años Te largaste por carajo Aprende a contar, baby 3, 2, 1, y a mi dieta Voy a firmar tu esquela, a mí me la pela Hago beatbox como Kila Kela Lo que me dices de verdad me la pela ¿Qué coño hago aquí si yo soy de Murcia? Pero es que tú eres de Venezuela ¿Qué me quieres contar? La cosa está seria En tu cara te pongo una media pieza a esa serie Te voy a hacer ver las estrellas Coño, qué curioso repulsa, sabía que venía a Cocurella Me tomen la polla y después tiras de ella Te digo de nuevo que te hago ver las estrellas Te pongo el cuello en la botella y después los sueños Hago esta mierda para cumplir mis sueños Te quiebro todo el cuello Cabrón, con esos pelos afro, parece Peter Castro Yo soy el cabrón que no se acaba el castrol Te muerdo como un castor Tú eres la oveja y yo soy el pastor Así me las gasto ¡Adiós! Se la lleva Enciclopedia.\",\n",
       " 'chunks': [{'timestamp': (0.0, 7.0), 'text': ' Encyclopedia versus piezas'},\n",
       "  {'timestamp': (0.0, 3.8),\n",
       "   'text': ' Tengo aquí en mi mente, el ojo, el dejo potente, siempre me gusta la guerra.'},\n",
       "  {'timestamp': (4.24, 9.32),\n",
       "   'text': ' Este te entierra y te encierra, piezas, rompo tu cabeza, tú siempre serás mi perra.'},\n",
       "  {'timestamp': (10.24, 14.48),\n",
       "   'text': \" Tengo rimas que se salen las vocales pa' que salen, están consolidadas.\"},\n",
       "  {'timestamp': (14.76, 19.74),\n",
       "   'text': ' El que sobresale cuando está en su sala, conmigo siempre emprendió la retirada.'},\n",
       "  {'timestamp': (19.94, 25.16),\n",
       "   'text': ' Por eso tengo rimas que te hacen daño, no te engaño, aquí está, no hay fallo.'},\n",
       "  {'timestamp': (25.16, 0.0), 'text': ''},\n",
       "  {'timestamp': (2.2, 5.58),\n",
       "   'text': ' Me gusta esta referencia, es extraño Yo hice que te retiraran por lo menos 20 años'},\n",
       "  {'timestamp': (5.58, 9.14), 'text': ' Te largaste por carajo'},\n",
       "  {'timestamp': (9.14, 11.64), 'text': ' Aprende a contar, baby'},\n",
       "  {'timestamp': (11.64, 15.92), 'text': ' 3, 2, 1, y a mi dieta'},\n",
       "  {'timestamp': (15.92, 18.7),\n",
       "   'text': ' Voy a firmar tu esquela, a mí me la pela'},\n",
       "  {'timestamp': (18.7, 21.02), 'text': ' Hago beatbox como Kila Kela'},\n",
       "  {'timestamp': (21.02, 23.22),\n",
       "   'text': ' Lo que me dices de verdad me la pela'},\n",
       "  {'timestamp': (23.22, 25.14),\n",
       "   'text': ' ¿Qué coño hago aquí si yo soy de Murcia?'},\n",
       "  {'timestamp': (25.22, 26.66), 'text': ' Pero es que tú eres de Venezuela'},\n",
       "  {'timestamp': (26.66, 28.36), 'text': ' ¿Qué me quieres contar?'},\n",
       "  {'timestamp': (28.36, 29.64), 'text': ' La cosa está seria'},\n",
       "  {'timestamp': (29.64, 0.0), 'text': ''},\n",
       "  {'timestamp': (2.82, 4.82),\n",
       "   'text': ' En tu cara te pongo una media pieza a esa serie Te voy a hacer ver las estrellas'},\n",
       "  {'timestamp': (4.82, 7.72),\n",
       "   'text': ' Coño, qué curioso repulsa, sabía que venía a Cocurella'},\n",
       "  {'timestamp': (7.72, 10.4),\n",
       "   'text': ' Me tomen la polla y después tiras de ella'},\n",
       "  {'timestamp': (10.4, 12.82),\n",
       "   'text': ' Te digo de nuevo que te hago ver las estrellas'},\n",
       "  {'timestamp': (12.82, 15.4),\n",
       "   'text': ' Te pongo el cuello en la botella y después los sueños'},\n",
       "  {'timestamp': (15.4, 17.26),\n",
       "   'text': ' Hago esta mierda para cumplir mis sueños'},\n",
       "  {'timestamp': (17.26, 18.5), 'text': ' Te quiebro todo el cuello'},\n",
       "  {'timestamp': (18.5, 21.92),\n",
       "   'text': ' Cabrón, con esos pelos afro, parece Peter Castro'},\n",
       "  {'timestamp': (21.92, 24.1),\n",
       "   'text': ' Yo soy el cabrón que no se acaba el castrol'},\n",
       "  {'timestamp': (24.1, 25.68), 'text': ' Te muerdo como un castor'},\n",
       "  {'timestamp': (25.68, 27.86),\n",
       "   'text': ' Tú eres la oveja y yo soy el pastor'},\n",
       "  {'timestamp': (27.86, 29.2), 'text': ' Así me las gasto'},\n",
       "  {'timestamp': (29.2, 0.0), 'text': ''},\n",
       "  {'timestamp': (0.64, 3.04), 'text': ' ¡Adiós!'},\n",
       "  {'timestamp': (5.2, None), 'text': ' Se la lleva Enciclopedia.'}]}"
      ]
     },
     "execution_count": 10,
     "metadata": {},
     "output_type": "execute_result"
    }
   ],
   "source": [
    "transcription_batalla"
   ]
  }
 ],
 "metadata": {
  "kernelspec": {
   "display_name": ".venv_audio",
   "language": "python",
   "name": "python3"
  },
  "language_info": {
   "codemirror_mode": {
    "name": "ipython",
    "version": 3
   },
   "file_extension": ".py",
   "mimetype": "text/x-python",
   "name": "python",
   "nbconvert_exporter": "python",
   "pygments_lexer": "ipython3",
   "version": "3.9.21"
  }
 },
 "nbformat": 4,
 "nbformat_minor": 5
}
